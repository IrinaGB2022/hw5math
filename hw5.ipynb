{
 "cells": [
  {
   "cell_type": "code",
   "execution_count": null,
   "id": "f63a8a5d",
   "metadata": {},
   "outputs": [],
   "source": [
    "Условие:\n",
    "Проведите тест гипотезы. Утверждается, что шарики для подшипников, изготовленные автоматическим станком, \n",
    "имеют средний диаметр 17 мм. Используя односторонний критерий с α=0,05, проверить эту гипотезу, \n",
    "если в выборке из n=100 шариков средний диаметр оказался равным 17.5 мм, а дисперсия известна и равна 4 кв. мм.\n",
    "\n",
    "Решение:\n",
    "Для проверки гипотезы используем критерий Стьюдента для выборочного среднего.\n",
    "\n",
    "Нулевая и альтернативная гипотезы :\n",
    "    \n",
    "\n",
    "μ - cредний диаметр шариков равен 17 мм\n",
    "мм\n",
    "μ1- средний диаметр шариков не равен 17 мм\n",
    "a=0.05  - уровень значимости\n",
    "\n",
    "Вычисляем статистику теста:\n",
    "    Z= (17.5-17)/(√4)/(√100)=2,5\n",
    "    \n",
    "\n",
    "\n",
    "Ищем критическую область:\n",
    "    Za/2=Zcrit=+-1.96\n",
    "\n",
    "Для данного значения статистики в таблице уровня значимости a=0.05 Z=1.645\n",
    " соответствует критическое значение \n",
    ".\n",
    "\n",
    "Принимаем решение оботклонении нулевой гипотезы так как 2,5>1,645:\n",
    "\n",
    "Принимаем альтернативную гипотезу.\n",
    "\n",
    "Вывод:\n",
    "средний диаметр шариков для подшипников, изготовленных автоматическим станком, не равен 17 мм."
   ]
  },
  {
   "cell_type": "code",
   "execution_count": 8,
   "id": "88c4b53d",
   "metadata": {},
   "outputs": [],
   "source": [
    "import numpy as np\n",
    "import math"
   ]
  },
  {
   "cell_type": "code",
   "execution_count": 9,
   "id": "64182934",
   "metadata": {},
   "outputs": [
    {
     "name": "stdout",
     "output_type": "stream",
     "text": [
      "Принимаем гипотезу H1\n"
     ]
    }
   ],
   "source": [
    "# H0: M = 200\n",
    "# H1: M != 200\n",
    "\n",
    "\n",
    "lb_ = 0.99\n",
    "\n",
    "X = [202, 203, 199, 197, 195, 201, 200, 204, 194, 190]\n",
    "\n",
    "S = np.std(X)\n",
    "M = 200\n",
    "x = np.mean(X)\n",
    "\n",
    "n = 100\n",
    "\n",
    "t_lb_ = abs(((x - M) / S) * math.sqrt(n))\n",
    "\n",
    "t_critical_ = 2.58\n",
    "\n",
    "if t_lb_ <= t_critical_:\n",
    "    print('Принимаем гипотезу H0')\n",
    "else:\n",
    "    print('Принимаем гипотезу H1')"
   ]
  },
  {
   "cell_type": "code",
   "execution_count": null,
   "id": "71deebdf",
   "metadata": {},
   "outputs": [],
   "source": [
    "Есть ли статистически значимые различия в росте дочерей?\n",
    "\n",
    "Рост матерей 172, 177, 158, 170, 178,175, 164, 160, 169\n",
    "\n",
    "Рост взрослых дочерей: 173, 175, 162, 174, 175, 168, 155, 170, 160"
   ]
  },
  {
   "cell_type": "code",
   "execution_count": 11,
   "id": "16373dec",
   "metadata": {},
   "outputs": [],
   "source": [
    "import numpy as np\n",
    "from scipy import stats"
   ]
  },
  {
   "cell_type": "code",
   "execution_count": 12,
   "id": "964ba8bf",
   "metadata": {},
   "outputs": [
    {
     "data": {
      "text/plain": [
       "Ttest_relResult(statistic=0.559522990335608, pvalue=0.5911212354055175)"
      ]
     },
     "execution_count": 12,
     "metadata": {},
     "output_type": "execute_result"
    }
   ],
   "source": [
    "x_1 = np.array([172, 177, 158, 170, 178, 175, 164, 160, 169])\n",
    "x_2 = np.array([173, 175, 162, 174, 175, 168, 155, 170, 160])\n",
    "\n",
    "stats.ttest_rel(x_1, x_2)"
   ]
  },
  {
   "cell_type": "code",
   "execution_count": null,
   "id": "4d8d6768",
   "metadata": {},
   "outputs": [],
   "source": [
    "pvalue > alpha,  статистически значимых различий не обнаружено при значимости alpha = 0.05"
   ]
  }
 ],
 "metadata": {
  "kernelspec": {
   "display_name": "Python 3 (ipykernel)",
   "language": "python",
   "name": "python3"
  },
  "language_info": {
   "codemirror_mode": {
    "name": "ipython",
    "version": 3
   },
   "file_extension": ".py",
   "mimetype": "text/x-python",
   "name": "python",
   "nbconvert_exporter": "python",
   "pygments_lexer": "ipython3",
   "version": "3.9.13"
  }
 },
 "nbformat": 4,
 "nbformat_minor": 5
}
